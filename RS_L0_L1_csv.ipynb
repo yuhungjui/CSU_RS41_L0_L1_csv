{
 "cells": [
  {
   "cell_type": "markdown",
   "id": "d7c28eb6",
   "metadata": {},
   "source": [
    "# Transform Vaisala RS41 radiosonde at CSU from L0 data (edt) to L1 csv format file (batch mode).\n",
    "\n",
    "**The CSU Vaisala MW41 system for RS41 radiosonde exports the edt-format file in its own specific format.**\n",
    "\n",
    "Hungjui Yu\\\n",
    "20210913"
   ]
  },
  {
   "cell_type": "code",
   "execution_count": 26,
   "id": "f4c317a4",
   "metadata": {},
   "outputs": [],
   "source": [
    "import glob\n",
    "import time\n",
    "import pandas as pd\n",
    "import datetime as dt\n",
    "import pytz\n",
    "from metpy.calc import dewpoint_from_relative_humidity\n",
    "from metpy.units import units"
   ]
  },
  {
   "cell_type": "markdown",
   "id": "4c523351-4b27-4580-b121-6d593ac625ed",
   "metadata": {},
   "source": [
    "**Set RS L0 (edt) files path:**"
   ]
  },
  {
   "cell_type": "code",
   "execution_count": 27,
   "id": "f736ddbd",
   "metadata": {},
   "outputs": [],
   "source": [
    "RS_L0_file_path = '/Users/yuhungjui/Research/CSU_2021/PRECIP_2021/VaisalaRS41/Data/L0'\n"
   ]
  },
  {
   "cell_type": "markdown",
   "id": "ebc4c7f2-d8c5-484c-9164-1ec22d77eec2",
   "metadata": {},
   "source": [
    "**Set output path:**"
   ]
  },
  {
   "cell_type": "code",
   "execution_count": 28,
   "id": "836aab8b",
   "metadata": {},
   "outputs": [],
   "source": [
    "output_path = '/Users/yuhungjui/Research/CSU_2021/PRECIP_2021/VaisalaRS41/Data/L1_csv'\n"
   ]
  },
  {
   "cell_type": "markdown",
   "id": "f547d1c4-f890-4be2-9d53-7abd745a2a73",
   "metadata": {},
   "source": [
    "**Find all edt files in the directory:**"
   ]
  },
  {
   "cell_type": "code",
   "execution_count": 29,
   "id": "5ddc3fc1",
   "metadata": {},
   "outputs": [],
   "source": [
    "# for file_path_name in glob.glob(RS_L0_file_path + '/*/edt_*'):\n",
    "#     print(file_path_name)\n",
    "\n",
    "# os.listdir(RS_L0_file_path)\n",
    "# os.walk(RS_L0_file_path)\n",
    "\n",
    "file_path_name = '/Users/yuhungjui/Research/CSU_2021/PRECIP_2021/VaisalaRS41/Data/L0/20210626/edt_20210626_1741.txt'\n"
   ]
  },
  {
   "cell_type": "markdown",
   "id": "e8fbe5ed-8754-4f50-b8a8-beb489ca4598",
   "metadata": {},
   "source": [
    "**Load the edt file:**"
   ]
  },
  {
   "cell_type": "code",
   "execution_count": 33,
   "id": "497f4167-918d-4e61-a601-924f4dbb7c1f",
   "metadata": {},
   "outputs": [
    {
     "name": "stdout",
     "output_type": "stream",
     "text": [
      "R1540499\n"
     ]
    }
   ],
   "source": [
    "def load_L0_edt(file_path_name):\n",
    "\n",
    "    ## For sounding data:\n",
    "    RS_df = pd.read_csv(file_path_name, sep='\\s+', header=28, \n",
    "                        names=['Time','MSL','P','TC','TD','RH','WS','WD','AscRate','Lat','Lon','GPS_MSL'])\n",
    "    # print(RS_df)\n",
    "\n",
    "    ## For souding launch time:\n",
    "    tz_utc = pytz.timezone('UTC')\n",
    "    tz_fc = pytz.timezone('US/Mountain')\n",
    "    RS_time = pd.read_csv(file_path_name, header=None, nrows=6)\n",
    "    # print(RS_time.iloc[5][0][:])\n",
    "    RS_launch_time = dt.datetime.strptime(RS_time.iloc[5][0][:],\n",
    "                                          'Balloon release date and time                \t%Y-%m-%dT%H:%M:%S')\n",
    "    # print(launch_time)\n",
    "    \n",
    "    ## For sounding info:\n",
    "    # RS_type = pd.read_csv(file_path_name, header=None, nrows=3)\n",
    "    RS_sn = pd.read_csv(file_path_name, header=None, nrows=4).iloc[3][0][-8:]\n",
    "    \n",
    "    return RS_launch_time, RS_df, RS_sn\n",
    "\n",
    "    # open_csv = open(file_path_name, 'r')\n",
    "    # reader = csv.reader(open_csv)\n",
    "    # for row in reader:\n",
    "    #     print(row)\n",
    "\n",
    "# RS_data = load_L0_edt(file_path_name)\n",
    "# print(RS_data[2])"
   ]
  },
  {
   "cell_type": "markdown",
   "id": "0ef0d7bb-7216-44dd-bad0-e4dc2ba32c75",
   "metadata": {},
   "source": [
    "**Convert from L0 data to L1 variables if needed:**"
   ]
  },
  {
   "cell_type": "code",
   "execution_count": 8,
   "id": "94296843",
   "metadata": {},
   "outputs": [],
   "source": [
    "# def conversion_L0_L1(loaded_RS_file, RS_launch_time):\n",
    "\n",
    "#     # launch_time = loaded_ST_file[0]\n",
    "#     # L0_raw_data = loaded_ST_file[1]\n",
    "    \n",
    "#     tz_utc = pytz.timezone('UTC')\n",
    "\n",
    "#     # Convert the data time to datetime object:\n",
    "#     L0_raw_data['Time'] = pd.to_datetime(L0_raw_data['Time'], utc=tz_utc)\n",
    "\n",
    "#     # Calculate dew-point temperature in raw data:\n",
    "#     L0_raw_data['dT(degC)'] = dewpoint_from_relative_humidity((L0_raw_data['Temperature(degree C)'].to_numpy() * units.degC).to(units.K), L0_raw_data['Humidity(%)'].to_numpy() / 100.)\n",
    "\n",
    "#     # Convert wind speed in raw data:\n",
    "#     # L0_raw_data['WS(kts)'] = (L0_raw_data['Speed(km/hr)'].to_numpy() * units.kilometer_per_hour).to(units.knot)\n",
    "#     L0_raw_data['WS(m/s)'] = (L0_raw_data['Speed(km/hr)'].to_numpy() * units.kilometer_per_hour).to(units.meter_per_second)\n",
    "\n",
    "#     # Convert wind direction in raw data:\n",
    "#     L0_raw_data.loc[L0_raw_data['Direction(degree)'] <= 180, 'WDIR'] = L0_raw_data['Direction(degree)'] + 180\n",
    "#     L0_raw_data.loc[L0_raw_data['Direction(degree)'] > 180, 'WDIR'] = L0_raw_data['Direction(degree)'] - 180\n",
    "#     L0_raw_data.loc[L0_raw_data['Speed(km/hr)'] == 0, 'WDIR'] = 0\n",
    "    \n",
    "#     # Find the index of launch time and convert L0 to L1 data:\n",
    "#     L1_data = L0_raw_data[L0_raw_data['Time'] >= launch_time_utc].copy()\n",
    "    \n",
    "#     # Set Time(sec) in L1 data:\n",
    "#     L1_data['Time(sec)'] = (L1_data['Time']-launch_time_utc).dt.total_seconds()\n",
    "#     # L1_data['Time(sec)'] = (L1_data['Time']-launch_time_utc).astype('timedelta64[s]')\n",
    "    \n",
    "#     return L1_data\n"
   ]
  },
  {
   "cell_type": "code",
   "execution_count": 107,
   "id": "ea62dd3d",
   "metadata": {},
   "outputs": [],
   "source": [
    "def output_L1(loaded_RS_file, L1_csv_filename):\n",
    "    \n",
    "    # launch_time = loaded_RS_file[0]\n",
    "    # L0_raw_data = loaded_RS_file[1]\n",
    "\n",
    "    # Output L1 data (csv format):\n",
    "\n",
    "    with open(L1_csv_filename, 'w') as file:\n",
    "\n",
    "        # Required fields:\n",
    "        file.write('FileFormat,CSV\\n')\n",
    "        file.write('Year,{}\\n'.format(loaded_RS_file[0].year))\n",
    "        file.write('Month,{:02d}\\n'.format(loaded_RS_file[0].month))\n",
    "        file.write('Day,{:02d}\\n'.format(loaded_RS_file[0].day))\n",
    "        file.write('Hour,{:02d}\\n'.format(loaded_RS_file[0].hour))\n",
    "        file.write('Minute,{:02d}\\n'.format(loaded_RS_file[0].minute))\n",
    "        file.write('Second,{:02d}\\n'.format(loaded_RS_file[0].second))\n",
    "\n",
    "        file.write('Ascending,\"true\"\\n')\n",
    "\n",
    "        # Optional fields:\n",
    "        file.write('latitude,40.590000,\"units=deg\"\\n')\n",
    "        file.write('longitude,-105.141500,\"units=deg\"\\n')\n",
    "        file.write('altitude,1571.9,\"units=m\"\\n')\n",
    "        file.write('gpsaltitude,1571.9,\"units=m\"\\n')\n",
    "        file.write('project,\"PRE-CIP-2021\"\\n')\n",
    "        file.write('agency,\"CSU\"\\n')\n",
    "        file.write('sondeid,\"{}\"\\n'.format(RS_no))\n",
    "        file.write('sondetype,\"Vaisala RS41-SGP\"\\n')\n",
    "        file.write('launchsite,\"Christman Field\"\\n')\n",
    "\n",
    "        # Data headers:\n",
    "        file.write('Fields,Time,Pressure,Temperature,RH,Speed,Direction,Latitude,Longitude,Altitude,gpsalt\\n')\n",
    "        file.write('Units,sec,mb,deg C,%,m/s,deg,deg,deg,m,m\\n')\n",
    "\n",
    "        # Data fields:\n",
    "\n",
    "        for index, row in L1_data.iterrows():\n",
    "\n",
    "            file.write('Data,%6.1f,%7.2f,%5.2f,%5.2f,%6.2f,%6.2f,%9.5f,%9.5f,,%7.1f\\n'\\\n",
    "                       % (row['Time(sec)']\\\n",
    "                        , row['Pressure(hPa)']\\\n",
    "                        , row['Temperature(degree C)']\\\n",
    "                        , row['Humidity(%)']\\\n",
    "                        , row['WS(m/s)']\\\n",
    "                        , row['Direction(degree)']\\\n",
    "                        , row['Lat']\\\n",
    "                        , row['Lon']\\\n",
    "                        , row['Height(m)']\\\n",
    "                         )\\\n",
    "                      )"
   ]
  },
  {
   "cell_type": "code",
   "execution_count": 108,
   "id": "41a60212",
   "metadata": {},
   "outputs": [
    {
     "name": "stdout",
     "output_type": "stream",
     "text": [
      "/Users/yuhungjui/GoogleDrive_CSU/Research/CSU_2021/PRECIP_2021/StormTracker/Data/L1_csv/precip21_2021050318.ST_2968.csv\n",
      "/Users/yuhungjui/GoogleDrive_CSU/Research/CSU_2021/PRECIP_2021/StormTracker/Data/L1_csv/precip21_2021050418.ST_2134.csv\n",
      "/Users/yuhungjui/GoogleDrive_CSU/Research/CSU_2021/PRECIP_2021/StormTracker/Data/L1_csv/precip21_2021050518.ST_2133.csv\n"
     ]
    },
    {
     "name": "stderr",
     "output_type": "stream",
     "text": [
      "/Users/yuhungjui/anaconda3/lib/python3.8/site-packages/pint/numpy_func.py:303: RuntimeWarning: divide by zero encountered in log\n",
      "  result_magnitude = func(*stripped_args, **stripped_kwargs)\n",
      "/Users/yuhungjui/anaconda3/lib/python3.8/site-packages/pint/quantity.py:1237: RuntimeWarning: invalid value encountered in true_divide\n",
      "  magnitude = magnitude_op(new_self._magnitude, other._magnitude)\n"
     ]
    },
    {
     "name": "stdout",
     "output_type": "stream",
     "text": [
      "/Users/yuhungjui/GoogleDrive_CSU/Research/CSU_2021/PRECIP_2021/StormTracker/Data/L1_csv/precip21_2021050818.ST_1841.csv\n",
      "Process Time: 1.257042 Sec\n"
     ]
    }
   ],
   "source": [
    "# %%\n",
    "# MAIN PROGRAM:\n",
    "t_start = time.process_time()\n",
    "\n",
    "RS_info = read_in_RS_info(RS_info_file)\n",
    "\n",
    "for index, row in RS_info.iterrows():\n",
    "\n",
    "    if dt.datetime.strptime(str(row['Date']), '%Y%m%d') <= final_date:\n",
    "        \n",
    "        log_launchT = str(row['Date']) + str(row['Launch_T'])[:6]\n",
    "        \n",
    "        st_file_date_path = RS_L0_file_path + '/{}'.format(str(row['Date']))\n",
    "\n",
    "        loaded_RS_file = load_st_file(str(row['RS_No'])[:4], log_launchT, st_file_date_path)\n",
    "        \n",
    "        L1_data = conversion_L0_L1(loaded_RS_file)\n",
    "        \n",
    "        L1_output_name = output_path + '/precip21_{}.RS_{}.csv'.format(str(row['Date']) + str(row['Nominal_T']), str(row['RS_No'])[:4])\n",
    "        \n",
    "        output_L1(str(row['RS_No'])[:4], loaded_RS_file, L1_data, L1_output_name)\n",
    "        \n",
    "        print(L1_output_name)\n",
    "\n",
    "t_finish = time.process_time()\n",
    "print('Process Time: %f Sec' % (t_finish - t_start))"
   ]
  },
  {
   "cell_type": "code",
   "execution_count": 25,
   "id": "4e1b3e51",
   "metadata": {},
   "outputs": [
    {
     "name": "stdin",
     "output_type": "stream",
     "text": [
      "Once deleted, variables cannot be recovered. Proceed (y/[n])?  y\n"
     ]
    }
   ],
   "source": [
    "%reset"
   ]
  },
  {
   "cell_type": "code",
   "execution_count": null,
   "id": "f876d309-87af-4579-966f-5505ba652a6c",
   "metadata": {},
   "outputs": [],
   "source": []
  }
 ],
 "metadata": {
  "kernelspec": {
   "display_name": "Python 3",
   "language": "python",
   "name": "python3"
  },
  "language_info": {
   "codemirror_mode": {
    "name": "ipython",
    "version": 3
   },
   "file_extension": ".py",
   "mimetype": "text/x-python",
   "name": "python",
   "nbconvert_exporter": "python",
   "pygments_lexer": "ipython3",
   "version": "3.8.10"
  }
 },
 "nbformat": 4,
 "nbformat_minor": 5
}
